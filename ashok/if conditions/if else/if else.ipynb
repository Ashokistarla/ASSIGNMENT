{
 "cells": [
  {
   "cell_type": "markdown",
   "metadata": {},
   "source": [
    "#1.WAP to check whether a number is positive or negative. If Positive print positive message or else print Negative Number."
   ]
  },
  {
   "cell_type": "code",
   "execution_count": null,
   "metadata": {},
   "outputs": [],
   "source": [
    "a=10\n",
    "if(a>0):\n",
    "    print(\"postive\")\n",
    "else:\n",
    "    print(\"negative\")    "
   ]
  },
  {
   "cell_type": "markdown",
   "metadata": {},
   "source": [
    "#2.WAP to check whether a number is even or odd. If even, print message an even or else print message as odd.\n"
   ]
  },
  {
   "cell_type": "code",
   "execution_count": null,
   "metadata": {},
   "outputs": [],
   "source": [
    "a=10\n",
    "if(a%2==0):\n",
    "    print(\"even\")\n",
    "else:\n",
    "    print(\"odd\")  "
   ]
  },
  {
   "cell_type": "markdown",
   "metadata": {},
   "source": [
    "#3.Write a program to check whether a given number is greater than 10 or not. if it is greater than 10 print message as greater or else print that number with not a greater than.\n"
   ]
  },
  {
   "cell_type": "code",
   "execution_count": null,
   "metadata": {},
   "outputs": [],
   "source": [
    "a=11\n",
    "if(a>10):\n",
    "    print(\"grater\")\n",
    "else:\n",
    "    print(a,\"not grater\")    "
   ]
  },
  {
   "cell_type": "markdown",
   "metadata": {},
   "source": [
    "#4.WAP to check whether the given two input numbers are divisible by 3 and 5. If it is divisible, print “Good Morning”, if it is not divisible print “Good Evening”\n"
   ]
  },
  {
   "cell_type": "code",
   "execution_count": null,
   "metadata": {},
   "outputs": [],
   "source": [
    "a=15\n",
    "b=30\n",
    "if(a%3==0 and b%3==0 and a%5==0 and b%5==0):\n",
    "    print(\"good moring\")\n",
    "else:\n",
    "    print(\"good evenimg\")    "
   ]
  },
  {
   "cell_type": "markdown",
   "metadata": {},
   "source": [
    "#5.WAP to accept two integers and check whether those two values are equal or not.If equal, multiply to value or else to display the quotation value.\n"
   ]
  },
  {
   "cell_type": "code",
   "execution_count": null,
   "metadata": {},
   "outputs": [],
   "source": [
    "a=5\n",
    "b=5\n",
    "if(type(a) == type(b) and a==b):\n",
    "    c=a*b\n",
    "    print(c)\n",
    "else:\n",
    "    print(a)    "
   ]
  },
  {
   "cell_type": "markdown",
   "metadata": {},
   "source": [
    "#6.WAP to find the largest of two numbers."
   ]
  },
  {
   "cell_type": "code",
   "execution_count": null,
   "metadata": {},
   "outputs": [],
   "source": [
    "\n",
    "a=25\n",
    "b=30\n",
    "if(a>b):\n",
    "    print(a)\n",
    "else:\n",
    "    print(b)    "
   ]
  },
  {
   "cell_type": "markdown",
   "metadata": {},
   "source": [
    "#7.WAP to check whether the input number is greater than 10 or not if it is greater than 10 print messages as greater with number. if it is not a greater than 10 print that number.\n"
   ]
  },
  {
   "cell_type": "code",
   "execution_count": null,
   "metadata": {},
   "outputs": [],
   "source": [
    "a=11\n",
    "if(a>10):\n",
    "    print(\"grater\")\n",
    "else:\n",
    "    print(a,\"not grater\")  "
   ]
  },
  {
   "cell_type": "markdown",
   "metadata": {},
   "source": [
    "#8.WAP to the given number integer, if n is greater than 21,print the absolute difference between n and 21 otherwise print twice the absolute difference.\n"
   ]
  },
  {
   "cell_type": "code",
   "execution_count": null,
   "metadata": {},
   "outputs": [],
   "source": [
    "n=25\n",
    "if(n>21):\n",
    "    m=n-21\n",
    "    print(m)\n",
    "else:\n",
    "    a=n-21\n",
    "    a=a*2\n",
    "    print(a)    "
   ]
  },
  {
   "cell_type": "markdown",
   "metadata": {},
   "source": [
    "#9.WAP to find the smallest of two numbers."
   ]
  },
  {
   "cell_type": "code",
   "execution_count": null,
   "metadata": {},
   "outputs": [],
   "source": [
    "\n",
    "a=25\n",
    "b=30\n",
    "if(a<b):\n",
    "    print(a)\n",
    "else:\n",
    "    print(b)  "
   ]
  },
  {
   "cell_type": "markdown",
   "metadata": {},
   "source": [
    "#10.WAP to check whether the given number is even or odd. If it is even then make it as an add number, if it is an odd number then make it as even number.\n"
   ]
  },
  {
   "cell_type": "code",
   "execution_count": null,
   "metadata": {},
   "outputs": [],
   "source": [
    "a=8\n",
    "if(a%2==0):\n",
    "    b=a+1\n",
    "    print(b)\n",
    "else:\n",
    "    b=a-1\n",
    "    print(b)    "
   ]
  },
  {
   "cell_type": "markdown",
   "metadata": {},
   "source": [
    "#11.WAP to check whether the given number is divisible by 3 or not if yes, print the number or else print the cube of the numbers.\n"
   ]
  },
  {
   "cell_type": "code",
   "execution_count": null,
   "metadata": {},
   "outputs": [],
   "source": [
    "a=9\n",
    "if(a%3==0):\n",
    "    print(a)\n",
    "else:\n",
    "    print(a*3)    "
   ]
  },
  {
   "cell_type": "code",
   "execution_count": null,
   "metadata": {},
   "outputs": [],
   "source": [
    "a=15\n",
    "if(a%3==0 and a%5==0):\n",
    "    print(a)\n",
    "else:\n",
    "    print(str(a))\n",
    "    #or\n",
    "a=17\n",
    "if(a%3==0 and a%5==0):\n",
    "    print(a)\n",
    "else:\n",
    "    b=str(a)\n",
    "    print(type(b),b)"
   ]
  },
  {
   "cell_type": "code",
   "execution_count": null,
   "metadata": {},
   "outputs": [],
   "source": [
    "\n",
    "a=12\n",
    "if(1<=a<19):\n",
    "    print(a*2)\n",
    "else:\n",
    "    print(a*3)    "
   ]
  },
  {
   "cell_type": "code",
   "execution_count": null,
   "metadata": {},
   "outputs": [],
   "source": [
    "a=50\n",
    "if(a>40):\n",
    "    print(a,\"pass\")\n",
    "else:\n",
    "    print(a,\"fail\")    "
   ]
  },
  {
   "cell_type": "code",
   "execution_count": null,
   "metadata": {},
   "outputs": [],
   "source": [
    "a=54\n",
    "if(47<=a<=58 and not 0<=a<=46 or a%2!=0):\n",
    "    print(chr(a))\n",
    "else:\n",
    "    print(a//5)    "
   ]
  },
  {
   "cell_type": "markdown",
   "metadata": {},
   "source": [
    "#16.WAP to check whether a given value is less than 125 and in between 47 to 125 or not. if condition is True, to perform store the given value as key and value as a character into the dict or else to append the value in list and display it.\n"
   ]
  },
  {
   "cell_type": "code",
   "execution_count": null,
   "metadata": {},
   "outputs": [],
   "source": [
    "a=48\n",
    "b={}\n",
    "c=[]\n",
    "if(a<125 and 47<=a<=125):\n",
    "    b['a']=48\n",
    "    print(b)\n",
    "else:\n",
    "    c.append(a)\n",
    "    print(c) \n",
    "    \n",
    "    #OR\n",
    "a=46\n",
    "b={}\n",
    "c=[]\n",
    "if(a<125 and 47<=a<=125):\n",
    "    b['a']=48\n",
    "    print(b)\n",
    "else:\n",
    "    c.append(a)\n",
    "    print(c)     "
   ]
  },
  {
   "cell_type": "markdown",
   "metadata": {},
   "source": [
    "#17.WAP to check whether a given character is in the alphabet or not. if alphabet, display the alphabet with character or else display the not alphabet with character.\n"
   ]
  },
  {
   "cell_type": "code",
   "execution_count": 23,
   "metadata": {},
   "outputs": [
    {
     "name": "stdout",
     "output_type": "stream",
     "text": [
      "B alphabet\n"
     ]
    }
   ],
   "source": [
    "#17.WAP to check whether a given character is in the alphabet or not. if alphabet, display the alphabet with character or else display the not alphabet with character.\n",
    "a=\"B\"\n",
    "if('A'<=a<='Z' or 'a'<=a<='z'):\n",
    "    print(a,\"alphabet\")\n",
    "else:\n",
    "    print(a,\"not alphabet\")   "
   ]
  },
  {
   "cell_type": "markdown",
   "metadata": {},
   "source": [
    "#18.WAP to check whether a given character is uppercase or other character. if uppercase, display the uppercase with character or else display the other character with character.\n"
   ]
  },
  {
   "cell_type": "code",
   "execution_count": 24,
   "metadata": {},
   "outputs": [
    {
     "name": "stdout",
     "output_type": "stream",
     "text": [
      "C uppercase\n",
      "* other character\n"
     ]
    }
   ],
   "source": [
    "#18.WAP to check whether a given character is uppercase or other character. if uppercase, display the uppercase with character or else display the other character with character.\n",
    "a=\"C\"\n",
    "if('A'<=a<='Z' ):\n",
    "    print(a,\"uppercase\")\n",
    "else:\n",
    "    print(a,\"other character\")  \n",
    "    #or\n",
    "a=\"*\"\n",
    "if('A'<=a<='Z'):\n",
    "    print(a,\"uppercase\")\n",
    "else:\n",
    "    print(a,\"other character\")   "
   ]
  },
  {
   "cell_type": "markdown",
   "metadata": {},
   "source": [
    "#19.WAP to check whether a given character is lowercase or other character. if lowercase, display the lowercase with character or else display the othercharacter with character.\n"
   ]
  },
  {
   "cell_type": "code",
   "execution_count": null,
   "metadata": {},
   "outputs": [],
   "source": [
    "#19.WAP to check whether a given character is lowercase or other character. if lowercase, display the lowercase with character or else display the othercharacter with character.\n",
    "a=\"d\"\n",
    "if(  'a'<=a<='z'):\n",
    "    print(a,\"lowercase\")\n",
    "else:\n",
    "    print(a,\"other character\")  \n",
    "    #or\n",
    "a=\"E\"\n",
    "if('a'<=a<='z'):\n",
    "    print(a,\"lowercase\")\n",
    "else:\n",
    "    print(a,\"other character\")    "
   ]
  },
  {
   "cell_type": "markdown",
   "metadata": {},
   "source": [
    "#20.WAP to check whether a given character is uppercase or other character. if uppercase, convert to lowercase .or else display the ascii number.\n"
   ]
  },
  {
   "cell_type": "code",
   "execution_count": 27,
   "metadata": {},
   "outputs": [
    {
     "name": "stdout",
     "output_type": "stream",
     "text": [
      "d\n"
     ]
    }
   ],
   "source": [
    "#20.WAP to check whether a given character is uppercase or other character. if uppercase, convert to lowercase .or else display the ascii number.\n",
    "a=\"D\"\n",
    "if('A'<=a<='Z' ):\n",
    "    print(a.lower())\n",
    "else:\n",
    "    print(ord(a))  "
   ]
  },
  {
   "cell_type": "markdown",
   "metadata": {},
   "source": [
    "#21.WAP to check whether the given character is in lowercase or uppercase. If it is in lowercase, convert it into uppercase, or else it is in uppercase and convert it into lowercase. Display the value.\n"
   ]
  },
  {
   "cell_type": "code",
   "execution_count": 26,
   "metadata": {},
   "outputs": [
    {
     "name": "stdout",
     "output_type": "stream",
     "text": [
      "s 83\n"
     ]
    }
   ],
   "source": [
    "v=\"S\"\n",
    "if('A'<=v<='Z' and 'a'<=v<='z'):\n",
    "    print(v.upper())\n",
    "else:\n",
    "    print(v.lower(),ord(v))  "
   ]
  }
 ],
 "metadata": {
  "kernelspec": {
   "display_name": "Python 3",
   "language": "python",
   "name": "python3"
  },
  "language_info": {
   "codemirror_mode": {
    "name": "ipython",
    "version": 3
   },
   "file_extension": ".py",
   "mimetype": "text/x-python",
   "name": "python",
   "nbconvert_exporter": "python",
   "pygments_lexer": "ipython3",
   "version": "3.11.4"
  },
  "orig_nbformat": 4
 },
 "nbformat": 4,
 "nbformat_minor": 2
}
