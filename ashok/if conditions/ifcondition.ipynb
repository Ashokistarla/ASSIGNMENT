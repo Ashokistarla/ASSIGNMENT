{
 "cells": [
  {
   "cell_type": "code",
   "execution_count": 2,
   "metadata": {},
   "outputs": [
    {
     "name": "stdout",
     "output_type": "stream",
     "text": [
      "given value is positive\n"
     ]
    }
   ],
   "source": [
    "#1 WAP to check whether a number is positive. if,positive,print a message positive.\n",
    "n=6\n",
    "if 0<=n:\n",
    "    print(\"given value is positive\")"
   ]
  },
  {
   "cell_type": "code",
   "execution_count": 4,
   "metadata": {},
   "outputs": [
    {
     "name": "stdout",
     "output_type": "stream",
     "text": [
      "hello world\n"
     ]
    }
   ],
   "source": [
    "#2WAP to display hello world if the number is greater than 1 and lesser than 5.\n",
    "n=4\n",
    "if 1<n<5:\n",
    "    print(\"hello world\")"
   ]
  },
  {
   "cell_type": "code",
   "execution_count": 5,
   "metadata": {},
   "outputs": [
    {
     "name": "stdout",
     "output_type": "stream",
     "text": [
      "fizz\n"
     ]
    }
   ],
   "source": [
    "#3 Wap to check whether the given nummber id divisible by 3 or not if print fizz.\n",
    "n=48\n",
    "if n%3==0:\n",
    "    print(\"fizz\")"
   ]
  },
  {
   "cell_type": "code",
   "execution_count": 6,
   "metadata": {},
   "outputs": [
    {
     "name": "stdout",
     "output_type": "stream",
     "text": [
      "(54+0j)\n"
     ]
    }
   ],
   "source": [
    "#4 wap to check whether given input i s divisible by 2 and 6.if the condition is satisfied the number is converted to a given number into a complex number.\n",
    "n=54\n",
    "if n%2==0 and n%6==0:\n",
    "    print(complex(n))"
   ]
  },
  {
   "cell_type": "code",
   "execution_count": 7,
   "metadata": {},
   "outputs": [
    {
     "name": "stdout",
     "output_type": "stream",
     "text": [
      "['3', '0']\n"
     ]
    }
   ],
   "source": [
    "#5 WAP to check whether a given inpput is divisible by 3 or 5.if the condition is satisfied the number is converted to a list.\n",
    "n=30\n",
    "if n%3==0 and n%5==0:\n",
    "    print(list(str(n)))"
   ]
  },
  {
   "cell_type": "code",
   "execution_count": 9,
   "metadata": {},
   "outputs": [
    {
     "name": "stdout",
     "output_type": "stream",
     "text": [
      "60 is multiple of 5\n"
     ]
    }
   ],
   "source": [
    "#WAP to check whether a given program number is multiple 5 or not.\n",
    "n=60\n",
    "if n%5==0:\n",
    "    print(f\"{n} is multiple of 5\")"
   ]
  },
  {
   "cell_type": "code",
   "execution_count": 10,
   "metadata": {},
   "outputs": [
    {
     "name": "stdout",
     "output_type": "stream",
     "text": [
      "0\n"
     ]
    }
   ],
   "source": [
    "#7 WAP to check whether the given input is 0 or not if 0 prints'0'.\n",
    "n=0\n",
    "if n==0:\n",
    "    print(\"0\")"
   ]
  },
  {
   "cell_type": "code",
   "execution_count": 11,
   "metadata": {},
   "outputs": [
    {
     "name": "stdout",
     "output_type": "stream",
     "text": [
      "negative\n"
     ]
    }
   ],
   "source": [
    "#8WAP to check weather a number is negative. if negative print a message negative.\n",
    "n=-20\n",
    "if n<=0:\n",
    "    print(\"negative\")"
   ]
  },
  {
   "cell_type": "code",
   "execution_count": 12,
   "metadata": {},
   "outputs": [
    {
     "name": "stdout",
     "output_type": "stream",
     "text": [
      "[102]\n"
     ]
    }
   ],
   "source": [
    "#9 WAP to check weather a number is even or not,if even store the value inside the list\n",
    "n=102\n",
    "if n%2==0:\n",
    "    x=[n]\n",
    "    print(x)"
   ]
  },
  {
   "cell_type": "code",
   "execution_count": 14,
   "metadata": {},
   "outputs": [
    {
     "name": "stdout",
     "output_type": "stream",
     "text": [
      "(35,)\n"
     ]
    }
   ],
   "source": [
    "# WAP to check weather a number is odd or not.if odd,store the value inside the tuple.\n",
    "n=35\n",
    "if n%2!=0:\n",
    "    print((n,))"
   ]
  },
  {
   "cell_type": "code",
   "execution_count": 15,
   "metadata": {},
   "outputs": [
    {
     "name": "stdout",
     "output_type": "stream",
     "text": [
      "256\n"
     ]
    }
   ],
   "source": [
    "#11 WAP to check if the given number is even or not.if it is yes to print the power of 4 in a given number.\n",
    "n=4\n",
    "if n%2==0:\n",
    "    print(4**4)"
   ]
  },
  {
   "cell_type": "code",
   "execution_count": 16,
   "metadata": {},
   "outputs": [
    {
     "name": "stdout",
     "output_type": "stream",
     "text": [
      "55\n"
     ]
    }
   ],
   "source": [
    "#12 WAP to take the input from the user as a number and check wheather it is a number or not .if yes, take the nummber and odd some value and print it.\n",
    "n=50\n",
    "if\"0<=n<=9\":\n",
    "    print(n+5)"
   ]
  },
  {
   "cell_type": "code",
   "execution_count": 17,
   "metadata": {},
   "outputs": [
    {
     "name": "stdout",
     "output_type": "stream",
     "text": [
      "Hello world\n"
     ]
    }
   ],
   "source": [
    "#13 WAP to dispaly hello world if the number is greater than '1' and less than '5'.\n",
    "n=3\n",
    "if 1<n<5:\n",
    "    print(\"Hello world\")"
   ]
  },
  {
   "cell_type": "code",
   "execution_count": 18,
   "metadata": {},
   "outputs": [
    {
     "name": "stdout",
     "output_type": "stream",
     "text": [
      "1225\n"
     ]
    }
   ],
   "source": [
    "#14 WAP to check wheather a given value is divisible by 5 and 7. if the value is divisible to display the square of the value.\n",
    "n=35\n",
    "if n%5==0 and n%7==0:\n",
    "    print(n**2)"
   ]
  },
  {
   "cell_type": "code",
   "execution_count": 19,
   "metadata": {},
   "outputs": [
    {
     "name": "stdout",
     "output_type": "stream",
     "text": [
      "2\n"
     ]
    }
   ],
   "source": [
    "#15 WAP to check wheather the given values last difgit is greater than 5 or not. if greater to perform the bitwise right shift operator(skipping values is 2).\n",
    "n=128\n",
    "x=n%10\n",
    "if x>5:\n",
    "    print(x>>2)"
   ]
  },
  {
   "cell_type": "code",
   "execution_count": 20,
   "metadata": {},
   "outputs": [
    {
     "name": "stdout",
     "output_type": "stream",
     "text": [
      "324\n"
     ]
    }
   ],
   "source": [
    "#16 WAP to check wheather a given value is divisible by 3 and less than 30. if the value is divisible,to display the square of the values.\n",
    "n=18\n",
    "x=n%3\n",
    "if n<30:\n",
    "    print(n**2)"
   ]
  },
  {
   "cell_type": "code",
   "execution_count": 22,
   "metadata": {},
   "outputs": [
    {
     "name": "stdout",
     "output_type": "stream",
     "text": [
      "4096\n"
     ]
    }
   ],
   "source": [
    "#17 WAP to check wheather a given value is an even number and divisible by 4.if satisfied,to display the cube of the value.\n",
    "n=16\n",
    "if n%4==0:\n",
    "    print(n**3)"
   ]
  },
  {
   "cell_type": "code",
   "execution_count": 23,
   "metadata": {},
   "outputs": [
    {
     "name": "stdout",
     "output_type": "stream",
     "text": [
      "[42]\n"
     ]
    }
   ],
   "source": [
    "#18 WAP to check wheather a given value is even or not if the even number the values inside the list\n",
    "n=42\n",
    "if n%2==0:\n",
    "    print([n])"
   ]
  },
  {
   "cell_type": "code",
   "execution_count": 24,
   "metadata": {},
   "outputs": [
    {
     "name": "stdout",
     "output_type": "stream",
     "text": [
      "5\n"
     ]
    }
   ],
   "source": [
    "#19 WAP to check wheather a given value is a negative or even number.if satisfied,to display the last digit of the value.\n",
    "n=-105\n",
    "if n<=0 or n%2==0:\n",
    "    x=(n%10)\n",
    "    print(x)"
   ]
  },
  {
   "cell_type": "code",
   "execution_count": 28,
   "metadata": {},
   "outputs": [
    {
     "name": "stdout",
     "output_type": "stream",
     "text": [
      "-4096\n"
     ]
    }
   ],
   "source": [
    "#20\n",
    "n=-16\n",
    "if n<=0 or n%2!=0 and n%4==0:\n",
    "    print(n**3)"
   ]
  },
  {
   "cell_type": "code",
   "execution_count": 30,
   "metadata": {},
   "outputs": [
    {
     "name": "stdout",
     "output_type": "stream",
     "text": [
      "D\n"
     ]
    }
   ],
   "source": [
    "#21\n",
    "n=68\n",
    "if n%4==0 and n%2==0:\n",
    "    print(chr(n))"
   ]
  },
  {
   "cell_type": "code",
   "execution_count": 38,
   "metadata": {},
   "outputs": [
    {
     "name": "stdout",
     "output_type": "stream",
     "text": [
      "x\n"
     ]
    }
   ],
   "source": [
    "#22\n",
    "n=120\n",
    "if n%4==0 and n%5==0 and n%2==0 and 45<=n<=125:\n",
    "    print(chr(n))"
   ]
  },
  {
   "cell_type": "code",
   "execution_count": 32,
   "metadata": {},
   "outputs": [
    {
     "name": "stdout",
     "output_type": "stream",
     "text": [
      "400\n"
     ]
    }
   ],
   "source": [
    "#23\n",
    "n=80\n",
    "if n%4==0 and n%5==0 and 25<=n<=100:\n",
    "    print(n*5)"
   ]
  },
  {
   "cell_type": "code",
   "execution_count": 33,
   "metadata": {},
   "outputs": [
    {
     "name": "stdout",
     "output_type": "stream",
     "text": [
      "0\n"
     ]
    }
   ],
   "source": [
    "#24\n",
    "n=65\n",
    "if n%2!=0 and type(n)==int:\n",
    "    print(n%5)"
   ]
  },
  {
   "cell_type": "code",
   "execution_count": 34,
   "metadata": {},
   "outputs": [
    {
     "name": "stdout",
     "output_type": "stream",
     "text": [
      "20\n"
     ]
    }
   ],
   "source": [
    "#25\n",
    "n=20\n",
    "if type(n)==int:\n",
    "    rcs=str(n)\n",
    "    print(rcs)"
   ]
  },
  {
   "cell_type": "code",
   "execution_count": 35,
   "metadata": {},
   "outputs": [
    {
     "name": "stdout",
     "output_type": "stream",
     "text": [
      "h\n"
     ]
    }
   ],
   "source": [
    "#26\n",
    "n=100\n",
    "if n<125 and n>60:\n",
    "    a=\"ashok\"\n",
    "    rcs=a[len(a)//2]\n",
    "    print(rcs)"
   ]
  },
  {
   "cell_type": "code",
   "execution_count": 36,
   "metadata": {},
   "outputs": [
    {
     "name": "stdout",
     "output_type": "stream",
     "text": [
      "20\n"
     ]
    }
   ],
   "source": [
    "#27\n",
    "a,b=10,10\n",
    "if a==b:\n",
    "    rcs=(a+b)\n",
    "    print(rcs)"
   ]
  },
  {
   "cell_type": "code",
   "execution_count": 37,
   "metadata": {},
   "outputs": [
    {
     "name": "stdout",
     "output_type": "stream",
     "text": [
      "0\n"
     ]
    }
   ],
   "source": [
    "#28\n",
    "m,n=3,3\n",
    "if m==n:\n",
    "    rcs=(m*n)\n",
    "    print(rcs%3)"
   ]
  },
  {
   "cell_type": "code",
   "execution_count": 43,
   "metadata": {},
   "outputs": [
    {
     "name": "stdout",
     "output_type": "stream",
     "text": [
      "97\n"
     ]
    }
   ],
   "source": [
    "#29\n",
    "ch='a'\n",
    "if \"a\"<=ch<=\"z\":\n",
    "    rcs=(ord(ch))\n",
    "    print(rcs)"
   ]
  },
  {
   "cell_type": "code",
   "execution_count": 44,
   "metadata": {},
   "outputs": [
    {
     "name": "stdout",
     "output_type": "stream",
     "text": [
      "65\n"
     ]
    }
   ],
   "source": [
    "#30\n",
    "ch=\"A\"\n",
    "if \"A\"<=ch<=\"Z\":\n",
    "    rcs=(ord(ch))\n",
    "    print(rcs)"
   ]
  }
 ],
 "metadata": {
  "kernelspec": {
   "display_name": "Python 3",
   "language": "python",
   "name": "python3"
  },
  "language_info": {
   "codemirror_mode": {
    "name": "ipython",
    "version": 3
   },
   "file_extension": ".py",
   "mimetype": "text/x-python",
   "name": "python",
   "nbconvert_exporter": "python",
   "pygments_lexer": "ipython3",
   "version": "3.11.4"
  },
  "orig_nbformat": 4
 },
 "nbformat": 4,
 "nbformat_minor": 2
}
