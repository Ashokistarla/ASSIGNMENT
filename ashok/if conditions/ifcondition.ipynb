{
 "cells": [
  {
   "cell_type": "code",
   "execution_count": 2,
   "metadata": {},
   "outputs": [
    {
     "name": "stdout",
     "output_type": "stream",
     "text": [
      "given value is positive\n"
     ]
    }
   ],
   "source": [
    "#1 WAP to check whether a number is positive. if,positive,print a message positive.\n",
    "n=6\n",
    "if 0<=n:\n",
    "    print(\"given value is positive\")"
   ]
  },
  {
   "cell_type": "code",
   "execution_count": 4,
   "metadata": {},
   "outputs": [
    {
     "name": "stdout",
     "output_type": "stream",
     "text": [
      "hello world\n"
     ]
    }
   ],
   "source": [
    "#2WAP to display hello world if the number is greater than 1 and lesser than 5.\n",
    "n=4\n",
    "if 1<n<5:\n",
    "    print(\"hello world\")"
   ]
  },
  {
   "cell_type": "code",
   "execution_count": 5,
   "metadata": {},
   "outputs": [
    {
     "name": "stdout",
     "output_type": "stream",
     "text": [
      "fizz\n"
     ]
    }
   ],
   "source": [
    "#3 Wap to check whether the given nummber id divisible by 3 or not if print fizz.\n",
    "n=48\n",
    "if n%3==0:\n",
    "    print(\"fizz\")"
   ]
  },
  {
   "cell_type": "code",
   "execution_count": 6,
   "metadata": {},
   "outputs": [
    {
     "name": "stdout",
     "output_type": "stream",
     "text": [
      "(54+0j)\n"
     ]
    }
   ],
   "source": [
    "#4 wap to check whether given input i s divisible by 2 and 6.if the condition is satisfied the number is converted to a given number into a complex number.\n",
    "n=54\n",
    "if n%2==0 and n%6==0:\n",
    "    print(complex(n))"
   ]
  },
  {
   "cell_type": "code",
   "execution_count": 7,
   "metadata": {},
   "outputs": [
    {
     "name": "stdout",
     "output_type": "stream",
     "text": [
      "['3', '0']\n"
     ]
    }
   ],
   "source": [
    "#5 WAP to check whether a given inpput is divisible by 3 or 5.if the condition is satisfied the number is converted to a list.\n",
    "n=30\n",
    "if n%3==0 and n%5==0:\n",
    "    print(list(str(n)))"
   ]
  },
  {
   "cell_type": "code",
   "execution_count": 9,
   "metadata": {},
   "outputs": [
    {
     "name": "stdout",
     "output_type": "stream",
     "text": [
      "60 is multiple of 5\n"
     ]
    }
   ],
   "source": [
    "#WAP to check whether a given program number is multiple 5 or not.\n",
    "n=60\n",
    "if n%5==0:\n",
    "    print(f\"{n} is multiple of 5\")"
   ]
  },
  {
   "cell_type": "code",
   "execution_count": 10,
   "metadata": {},
   "outputs": [
    {
     "name": "stdout",
     "output_type": "stream",
     "text": [
      "0\n"
     ]
    }
   ],
   "source": [
    "#7 WAP to check whether the given input is 0 or not if 0 prints'0'.\n",
    "n=0\n",
    "if n==0:\n",
    "    print(\"0\")"
   ]
  },
  {
   "cell_type": "code",
   "execution_count": 11,
   "metadata": {},
   "outputs": [
    {
     "name": "stdout",
     "output_type": "stream",
     "text": [
      "negative\n"
     ]
    }
   ],
   "source": [
    "#8WAP to check weather a number is negative. if negative print a message negative.\n",
    "n=-20\n",
    "if n<=0:\n",
    "    print(\"negative\")"
   ]
  },
  {
   "cell_type": "code",
   "execution_count": 12,
   "metadata": {},
   "outputs": [
    {
     "name": "stdout",
     "output_type": "stream",
     "text": [
      "[102]\n"
     ]
    }
   ],
   "source": [
    "#9 WAP to check weather a number is even or not,if even store the value inside the list\n",
    "n=102\n",
    "if n%2==0:\n",
    "    x=[n]\n",
    "    print(x)"
   ]
  },
  {
   "cell_type": "code",
   "execution_count": 14,
   "metadata": {},
   "outputs": [
    {
     "name": "stdout",
     "output_type": "stream",
     "text": [
      "(35,)\n"
     ]
    }
   ],
   "source": [
    "# WAP to check weather a number is odd or not.if odd,store the value inside the tuple.\n",
    "n=35\n",
    "if n%2!=0:\n",
    "    print((n,))"
   ]
  },
  {
   "cell_type": "code",
   "execution_count": 15,
   "metadata": {},
   "outputs": [
    {
     "name": "stdout",
     "output_type": "stream",
     "text": [
      "256\n"
     ]
    }
   ],
   "source": [
    "#11 WAP to check if the given number is even or not.if it is yes to print the power of 4 in a given number.\n",
    "n=4\n",
    "if n%2==0:\n",
    "    print(4**4)"
   ]
  },
  {
   "cell_type": "code",
   "execution_count": 16,
   "metadata": {},
   "outputs": [
    {
     "name": "stdout",
     "output_type": "stream",
     "text": [
      "55\n"
     ]
    }
   ],
   "source": [
    "#12 WAP to take the input from the user as a number and check wheather it is a number or not .if yes, take the nummber and odd some value and print it.\n",
    "n=50\n",
    "if\"0<=n<=9\":\n",
    "    print(n+5)"
   ]
  },
  {
   "cell_type": "code",
   "execution_count": 17,
   "metadata": {},
   "outputs": [
    {
     "name": "stdout",
     "output_type": "stream",
     "text": [
      "Hello world\n"
     ]
    }
   ],
   "source": [
    "#13 WAP to dispaly hello world if the number is greater than '1' and less than '5'.\n",
    "n=3\n",
    "if 1<n<5:\n",
    "    print(\"Hello world\")"
   ]
  },
  {
   "cell_type": "code",
   "execution_count": 18,
   "metadata": {},
   "outputs": [
    {
     "name": "stdout",
     "output_type": "stream",
     "text": [
      "1225\n"
     ]
    }
   ],
   "source": [
    "#14 WAP to check wheather a given value is divisible by 5 and 7. if the value is divisible to display the square of the value.\n",
    "n=35\n",
    "if n%5==0 and n%7==0:\n",
    "    print(n**2)"
   ]
  },
  {
   "cell_type": "code",
   "execution_count": 19,
   "metadata": {},
   "outputs": [
    {
     "name": "stdout",
     "output_type": "stream",
     "text": [
      "2\n"
     ]
    }
   ],
   "source": [
    "#15 WAP to check wheather the given values last difgit is greater than 5 or not. if greater to perform the bitwise right shift operator(skipping values is 2).\n",
    "n=128\n",
    "x=n%10\n",
    "if x>5:\n",
    "    print(x>>2)"
   ]
  },
  {
   "cell_type": "code",
   "execution_count": 20,
   "metadata": {},
   "outputs": [
    {
     "name": "stdout",
     "output_type": "stream",
     "text": [
      "324\n"
     ]
    }
   ],
   "source": [
    "#16 WAP to check wheather a given value is divisible by 3 and less than 30. if the value is divisible,to display the square of the values.\n",
    "n=18\n",
    "x=n%3\n",
    "if n<30:\n",
    "    print(n**2)"
   ]
  },
  {
   "cell_type": "code",
   "execution_count": 22,
   "metadata": {},
   "outputs": [
    {
     "name": "stdout",
     "output_type": "stream",
     "text": [
      "4096\n"
     ]
    }
   ],
   "source": [
    "#17 WAP to check wheather a given value is an even number and divisible by 4.if satisfied,to display the cube of the value.\n",
    "n=16\n",
    "if n%4==0:\n",
    "    print(n**3)"
   ]
  },
  {
   "cell_type": "code",
   "execution_count": 23,
   "metadata": {},
   "outputs": [
    {
     "name": "stdout",
     "output_type": "stream",
     "text": [
      "[42]\n"
     ]
    }
   ],
   "source": [
    "#18 WAP to check wheather a given value is even or not if the even number the values inside the list\n",
    "n=42\n",
    "if n%2==0:\n",
    "    print([n])"
   ]
  },
  {
   "cell_type": "code",
   "execution_count": 24,
   "metadata": {},
   "outputs": [
    {
     "name": "stdout",
     "output_type": "stream",
     "text": [
      "5\n"
     ]
    }
   ],
   "source": [
    "#19 WAP to check wheather a given value is a negative or even number.if satisfied,to display the last digit of the value.\n",
    "n=-105\n",
    "if n<=0 or n%2==0:\n",
    "    x=(n%10)\n",
    "    print(x)"
   ]
  },
  {
   "cell_type": "code",
   "execution_count": 28,
   "metadata": {},
   "outputs": [
    {
     "name": "stdout",
     "output_type": "stream",
     "text": [
      "-4096\n"
     ]
    }
   ],
   "source": [
    "#20WAP to check whether a given value is a negative or odd number and divisible by 4. If satisfied, display the cube of the values.\n",
    "n=-16\n",
    "if n<=0 or n%2!=0 and n%4==0:\n",
    "    print(n**3)"
   ]
  },
  {
   "cell_type": "code",
   "execution_count": 30,
   "metadata": {},
   "outputs": [
    {
     "name": "stdout",
     "output_type": "stream",
     "text": [
      "D\n"
     ]
    }
   ],
   "source": [
    "#21WAP to check whether a given value is a negative or odd number and divisible by 4. If\n",
    "satisfied, display the cube of the values.\n",
    "n=68\n",
    "if n%4==0 and n%2==0:\n",
    "    print(chr(n))"
   ]
  },
  {
   "cell_type": "code",
   "execution_count": 38,
   "metadata": {},
   "outputs": [
    {
     "name": "stdout",
     "output_type": "stream",
     "text": [
      "x\n"
     ]
    }
   ],
   "source": [
    "#22WAP to check whether a given value is present in between 45 to 125 and the number should be divisible by 4 and 5 and even value. If satisfied, to display the ascii character.\n",
    "n=120\n",
    "if n%4==0 and n%5==0 and n%2==0 and 45<=n<=125:\n",
    "    print(chr(n))"
   ]
  },
  {
   "cell_type": "code",
   "execution_count": 32,
   "metadata": {},
   "outputs": [
    {
     "name": "stdout",
     "output_type": "stream",
     "text": [
      "400\n"
     ]
    }
   ],
   "source": [
    "#23WAP to check whether a given value is present in between 45 to 125 and the number should be divisible by 4 and 5 and even value. If satisfied, to display the ascii character.\n",
    "n=80\n",
    "if n%4==0 and n%5==0 and 25<=n<=100:\n",
    "    print(n*5)"
   ]
  },
  {
   "cell_type": "code",
   "execution_count": 33,
   "metadata": {},
   "outputs": [
    {
     "name": "stdout",
     "output_type": "stream",
     "text": [
      "0\n"
     ]
    }
   ],
   "source": [
    "#24WAP to check whether a given value is present in between 45 to 125 and the number should be divisible by 4 and 5 and even value. If satisfied, to display the ascii character.\n",
    "n=65\n",
    "if n%2!=0 and type(n)==int:\n",
    "    print(n%5)"
   ]
  },
  {
   "cell_type": "code",
   "execution_count": 34,
   "metadata": {},
   "outputs": [
    {
     "name": "stdout",
     "output_type": "stream",
     "text": [
      "20\n"
     ]
    }
   ],
   "source": [
    "#25WAP to check whether a given value is present in between 45 to 125 and the number should be divisible by 4 and 5 and even value. If satisfied, to display the ascii character.\n",
    "n=20\n",
    "if type(n)==int:\n",
    "    rcs=str(n)\n",
    "    print(rcs)"
   ]
  },
  {
   "cell_type": "code",
   "execution_count": 35,
   "metadata": {},
   "outputs": [
    {
     "name": "stdout",
     "output_type": "stream",
     "text": [
      "h\n"
     ]
    }
   ],
   "source": [
    "#26WAP to check whether a given value is present in between 45 to 125 and the number should be divisible by 4 and 5 and even value. If satisfied, to display the ascii character.\n",
    "n=100\n",
    "if n<125 and n>60:\n",
    "    a=\"ashok\"\n",
    "    rcs=a[len(a)//2]\n",
    "    print(rcs)"
   ]
  },
  {
   "cell_type": "code",
   "execution_count": 36,
   "metadata": {},
   "outputs": [
    {
     "name": "stdout",
     "output_type": "stream",
     "text": [
      "20\n"
     ]
    }
   ],
   "source": [
    "#WAP to check whether a given two integers are equal or not. If both are equal, to perform addition and display the result.\n",
    "a,b=10,10\n",
    "if a==b:\n",
    "    rcs=(a+b)\n",
    "    print(rcs)"
   ]
  },
  {
   "cell_type": "code",
   "execution_count": 37,
   "metadata": {},
   "outputs": [
    {
     "name": "stdout",
     "output_type": "stream",
     "text": [
      "0\n"
     ]
    }
   ],
   "source": [
    "#28WAP to check whether a given two integers are equal or not. If both are equal, to perform addition and display the result.\n",
    "m,n=3,3\n",
    "if m==n:\n",
    "    rcs=(m*n)\n",
    "    print(rcs%3)"
   ]
  },
  {
   "cell_type": "code",
   "execution_count": 43,
   "metadata": {},
   "outputs": [
    {
     "name": "stdout",
     "output_type": "stream",
     "text": [
      "97\n"
     ]
    }
   ],
   "source": [
    "#29 WAP to check whether a character is in the alphabet or not. If the alphabet, store the value inside the dict(key as a character and value as an ascii value).\n",
    "ch='a'\n",
    "if \"a\"<=ch<=\"z\":\n",
    "    rcs=(ord(ch))\n",
    "    print(rcs)"
   ]
  },
  {
   "cell_type": "code",
   "execution_count": 44,
   "metadata": {},
   "outputs": [
    {
     "name": "stdout",
     "output_type": "stream",
     "text": [
      "65\n"
     ]
    }
   ],
   "source": [
    "#30 WAP to check whether a character is in the uppercase or not. If the uppercase, store the value inside the dict(key as a character and value as an ascii value).\n",
    "ch=\"A\"\n",
    "if \"A\"<=ch<=\"Z\":\n",
    "    rcs=(ord(ch))\n",
    "    print(rcs)"
   ]
  },
  {
   "cell_type": "code",
   "execution_count": 1,
   "metadata": {},
   "outputs": [
    {
     "name": "stdout",
     "output_type": "stream",
     "text": [
      "{'a': 97}\n"
     ]
    }
   ],
   "source": [
    "#31 WAP to check whether a character is in the uppercase or not. If the uppercase, store the value inside the dict(key as a character and value as an ascii value).\n",
    "ch = 'A'\n",
    "if 65<=ord(ch)<=90:\n",
    "    lc = chr(ord(ch)+32)\n",
    "    res = {lc:ord(lc)}\n",
    "    print(res)"
   ]
  },
  {
   "cell_type": "code",
   "execution_count": 2,
   "metadata": {},
   "outputs": [
    {
     "name": "stdout",
     "output_type": "stream",
     "text": [
      "ccccccccc\n"
     ]
    }
   ],
   "source": [
    "#32 WAP to check whether a character is in the lowercase or not. If the lowercase, to perform the replication operation on that character\n",
    "ch = 'c'\n",
    "if 'a'<=ch<='z':\n",
    "    print(ch*9)"
   ]
  },
  {
   "cell_type": "code",
   "execution_count": 3,
   "metadata": {},
   "outputs": [
    {
     "name": "stdout",
     "output_type": "stream",
     "text": [
      "7 <class 'int'>\n"
     ]
    }
   ],
   "source": [
    "#33WAP to check whether a character is in the ascii number or not. If the ascii number, to convert into integer.\n",
    "a = 55\n",
    "if 48<=a<=57:\n",
    "    res = int(chr(a))\n",
    "    print(res, type(res))"
   ]
  },
  {
   "cell_type": "code",
   "execution_count": 4,
   "metadata": {},
   "outputs": [
    {
     "name": "stdout",
     "output_type": "stream",
     "text": [
      "/ 47\n"
     ]
    }
   ],
   "source": [
    "#34 WAP to check whether a character is in the special symbol or not. If the special symbol, to display a symbol with ascii value.\n",
    "ch = '/'\n",
    "if 0<=ord(ch)<=47 or 58<=ord(ch)<=64 or 91<=ord(ch)<=96 or 123<=ord(ch)<=127:\n",
    "    print(ch, ord(ch))"
   ]
  },
  {
   "cell_type": "code",
   "execution_count": 5,
   "metadata": {},
   "outputs": [
    {
     "name": "stdout",
     "output_type": "stream",
     "text": [
      "even number\n"
     ]
    }
   ],
   "source": [
    "#35 wap check whether a character is an even number or not.if the even number,display an even number.\n",
    "ch='b'\n",
    "if ord(ch)%2==0:\n",
    "    print('even number')"
   ]
  },
  {
   "cell_type": "code",
   "execution_count": 6,
   "metadata": {},
   "outputs": [
    {
     "name": "stdout",
     "output_type": "stream",
     "text": [
      "196\n"
     ]
    }
   ],
   "source": [
    "#36 WAP to check whether a given two integers a and b,if any of the integers is 10 or if their sum is 10,to perform the sum of the number and to display square of the result.\n",
    "a=10\n",
    "b=4\n",
    "if a==10 or b==10 or (a+b)==10:\n",
    "    sum=a+b\n",
    "    print(sum**2)"
   ]
  },
  {
   "cell_type": "code",
   "execution_count": 7,
   "metadata": {},
   "outputs": [
    {
     "name": "stdout",
     "output_type": "stream",
     "text": [
      "f\n"
     ]
    }
   ],
   "source": [
    "#37 WAP to check whether a character is in the vowel or not.if the vowel,print the next character.\n",
    "ch='e'\n",
    "if ch in 'aeiouAEIOU':\n",
    "    print(chr(ord(ch)+1))"
   ]
  },
  {
   "cell_type": "code",
   "execution_count": 8,
   "metadata": {},
   "outputs": [
    {
     "name": "stdout",
     "output_type": "stream",
     "text": [
      "c\n"
     ]
    }
   ],
   "source": [
    "#38 WAP to check whether a character is in the not vowel. if it's not a vowel,print the previous character.\n",
    "ch='d'\n",
    "if ch not in 'aeiouAEIOU':\n",
    "    print(chr(ord(ch)-1))"
   ]
  },
  {
   "cell_type": "code",
   "execution_count": 9,
   "metadata": {},
   "outputs": [
    {
     "name": "stdout",
     "output_type": "stream",
     "text": [
      "single value data type\n"
     ]
    }
   ],
   "source": [
    "#39 WAP to check whether a given value is a single value data type or not. if single value,display the given value as a single value data type.\n",
    "a=20.06\n",
    "if type(a) in [int,float,bytes,complex,bool]:\n",
    "    print('single value data type')"
   ]
  },
  {
   "cell_type": "code",
   "execution_count": 10,
   "metadata": {},
   "outputs": [
    {
     "name": "stdout",
     "output_type": "stream",
     "text": [
      "('ashok',)\n"
     ]
    }
   ],
   "source": [
    "#40 WAP to check whether a given value is a multi-value data type or not.if multi value,store the given inside the tuple and display it.\n",
    "v='ashok'\n",
    "t=()\n",
    "if type(v) in [str,list,tuple,set,dict]:\n",
    "    t+=(v,)\n",
    "    print(t)"
   ]
  },
  {
   "cell_type": "code",
   "execution_count": 12,
   "metadata": {},
   "outputs": [
    {
     "name": "stdout",
     "output_type": "stream",
     "text": [
      "{'ashok'}\n"
     ]
    }
   ],
   "source": [
    "#41 WAP to check whether a given value is an immutable data type or not. if an immutable data type value, store the given inside the set and disolay it.\n",
    "x='ashok'\n",
    "s=set()\n",
    "if type(v) in [str,tuple]:\n",
    "    s|={v}\n",
    "    print(s)"
   ]
  },
  {
   "cell_type": "code",
   "execution_count": 15,
   "metadata": {},
   "outputs": [
    {
     "name": "stdout",
     "output_type": "stream",
     "text": [
      "odd 5\n"
     ]
    }
   ],
   "source": [
    "#42 WAP to check whether the middle element of a given list is odd pr not. if it is odd then print odd then print the number else directly print the number.\n",
    "\n",
    "l = [1, 2, 3, 4, 5, 6, 7, 8, 9]\n",
    "if l[len(l)//2]%2==1:\n",
    "    print('odd', l[len(l)//2])\n",
    "else:\n",
    "    print(l[len(l)//2])"
   ]
  },
  {
   "cell_type": "code",
   "execution_count": 16,
   "metadata": {},
   "outputs": [
    {
     "name": "stdout",
     "output_type": "stream",
     "text": [
      "not solved\n"
     ]
    }
   ],
   "source": [
    "#43 WAP Return a new string with \"not\" prefixed to the front of the original string. Return the string unmodified if the string already has the word \"not\" at the beginning.\n",
    "s = 'solved'\n",
    "if s[:3]=='not':\n",
    "    print(s)\n",
    "else:\n",
    "    print('not '+s)"
   ]
  },
  {
   "cell_type": "code",
   "execution_count": 17,
   "metadata": {},
   "outputs": [
    {
     "name": "stdout",
     "output_type": "stream",
     "text": [
      "qspier\n"
     ]
    }
   ],
   "source": [
    "#44 WAP to check whether a given string(str) and one integer(n) value, to display a new string that is devoid of the character at index n. if you are given a non-empty string and an int n. The value of n will be a legitimate character index from the original string, therefore it will fall within the range of 0 to len(str)-1, inclusive.\n",
    "str = 'qspider'\n",
    "n = 4\n",
    "if len(str)>0 and 0<=n<=len(str)-1:\n",
    "    res = str[:n] + str[n+1:]\n",
    "    print(res)"
   ]
  },
  {
   "cell_type": "code",
   "execution_count": 18,
   "metadata": {},
   "outputs": [
    {
     "name": "stdout",
     "output_type": "stream",
     "text": [
      "140723007513672 140723007513672\n"
     ]
    }
   ],
   "source": [
    "#45 WAP to check whether the two variables are pointing to the same memory location or not if they are pointing to the same memory location then print the address of both the variables.\n",
    "a = 10\n",
    "b = 10\n",
    "if a is b:\n",
    "    print(id(a), id(b))"
   ]
  },
  {
   "cell_type": "code",
   "execution_count": 19,
   "metadata": {},
   "outputs": [
    {
     "name": "stdout",
     "output_type": "stream",
     "text": [
      "hbndieb\n"
     ]
    }
   ],
   "source": [
    "#46 WAP to check whether the given length of the string is even or not. If the condition is satisfied, display the sequence of characters from zero position to length of collection -2.\n",
    "s = 'hbndiebj'\n",
    "if len(s)%2==0:\n",
    "    print(s[:-1])"
   ]
  },
  {
   "cell_type": "code",
   "execution_count": 20,
   "metadata": {},
   "outputs": [
    {
     "name": "stdout",
     "output_type": "stream",
     "text": [
      "dcba abcd\n"
     ]
    }
   ],
   "source": [
    "#47 WAP to check whether the two given strings are having the same values or not. If both are not the same values then swap the values of one variable to another variable after swapping print the two values.\n",
    "s1 = 'abcd'\n",
    "s2 = 'dcba'\n",
    "if s1!=s2:\n",
    "    s1, s2 = s2, s1\n",
    "    print(s1, s2)"
   ]
  },
  {
   "cell_type": "code",
   "execution_count": 21,
   "metadata": {},
   "outputs": [
    {
     "name": "stdout",
     "output_type": "stream",
     "text": [
      "{'/': 47}\n"
     ]
    }
   ],
   "source": [
    "#48 WAP to check whether a given character is a special symbol or not. If satisfied, store the symbol as a key and value as a ascii value of the given character inside the dictionary.\n",
    "ch = '/'\n",
    "if 0<=ord(ch)<=47 or 58<=ord(ch)<=64 or 91<=ord(ch)<=96 or 123<=ord(ch)<=127:\n",
    "    res = {ch:ord(ch)}\n",
    "    print(res)"
   ]
  },
  {
   "cell_type": "code",
   "execution_count": 22,
   "metadata": {},
   "outputs": [
    {
     "name": "stdout",
     "output_type": "stream",
     "text": [
      "{'a': 1, 'b': 2, 'c': 3, 'd': 4}\n"
     ]
    }
   ],
   "source": [
    "#49 WAP to check whether a given key is not present in the dictionary or not. If the key is not present, append the new key inside the dictionary.\n",
    "d = {'a':1, 'b':2, 'c':3}\n",
    "if 'd' not in d:\n",
    "    d['d'] = 4\n",
    "    print(d)"
   ]
  },
  {
   "cell_type": "code",
   "execution_count": 32,
   "metadata": {},
   "outputs": [],
   "source": [
    "#50 WAP whether a given string, and it displays a new string with the first and last characters switched.\n",
    "s='qspiders'\n",
    "if type(s)==str:\n",
    "    res=s[-1]+s[1:-1]+s[0]\n",
    "    print(res)"
   ]
  },
  {
   "cell_type": "code",
   "execution_count": 25,
   "metadata": {},
   "outputs": [
    {
     "name": "stdout",
     "output_type": "stream",
     "text": [
      "2\n"
     ]
    }
   ],
   "source": [
    "#51 WAP to check whether the last digit should be 2 in the given number then print the last digit.\n",
    "a = 621642\n",
    "if a%10==2:\n",
    "    print(a%10)"
   ]
  },
  {
   "cell_type": "code",
   "execution_count": 26,
   "metadata": {},
   "outputs": [
    {
     "name": "stdout",
     "output_type": "stream",
     "text": [
      "900\n"
     ]
    }
   ],
   "source": [
    "#52 WAP to check whether the given two integers a and b, if any of the integers is 10 or if their sum is 10, to perform the sum of the numbers and to display the square of the result.\n",
    "a = 10\n",
    "b = 20\n",
    "if a==10 or b==10 or a+b==10:\n",
    "    res = a+b\n",
    "    print(res**2)"
   ]
  },
  {
   "cell_type": "code",
   "execution_count": 27,
   "metadata": {},
   "outputs": [
    {
     "name": "stdout",
     "output_type": "stream",
     "text": [
      "qspier\n"
     ]
    }
   ],
   "source": [
    "#53 WAP to check whether a given string(str) and one integer(n) value, to display a new string that is devoid of the character at index n. if you are given a non-empty string and an int n. The value of n will be a legitimate character index from the original string, therefore it will fall within the range of 0 to len(str)-1, inclusive.\n",
    "str = 'qspider'\n",
    "n = 4\n",
    "if len(str)>0 and 0<=n<=len(str)-1:\n",
    "    res = str[:n] + str[n+1:]\n",
    "    print(res)"
   ]
  },
  {
   "cell_type": "code",
   "execution_count": 28,
   "metadata": {},
   "outputs": [
    {
     "name": "stdout",
     "output_type": "stream",
     "text": [
      "abcd 4\n",
      "abcde 5\n"
     ]
    }
   ],
   "source": [
    "#54 WAP to check whether both string collections are equal or not if it is not equal print the both strings along with the length of a string if both are equal ignore it.\n",
    "s1 = 'abcd'\n",
    "s2 = 'abcde'\n",
    "if s1!=s2:\n",
    "    print(s1, len(s1))\n",
    "    print(s2, len(s2))"
   ]
  }
 ],
 "metadata": {
  "kernelspec": {
   "display_name": "Python 3",
   "language": "python",
   "name": "python3"
  },
  "language_info": {
   "codemirror_mode": {
    "name": "ipython",
    "version": 3
   },
   "file_extension": ".py",
   "mimetype": "text/x-python",
   "name": "python",
   "nbconvert_exporter": "python",
   "pygments_lexer": "ipython3",
   "version": "3.11.4"
  },
  "orig_nbformat": 4
 },
 "nbformat": 4,
 "nbformat_minor": 2
}
